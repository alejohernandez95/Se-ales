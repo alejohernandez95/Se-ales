{
  "nbformat": 4,
  "nbformat_minor": 0,
  "metadata": {
    "colab": {
      "name": "ClasificacionDeSeñales.ipynb",
      "version": "0.3.2",
      "provenance": [],
      "include_colab_link": true
    },
    "kernelspec": {
      "name": "python3",
      "display_name": "Python 3"
    }
  },
  "cells": [
    {
      "cell_type": "markdown",
      "metadata": {
        "id": "view-in-github",
        "colab_type": "text"
      },
      "source": [
        "<a href=\"https://colab.research.google.com/github/alejohernandez95/Se-ales/blob/master/ClasificacionDeSe%C3%B1ales.ipynb\" target=\"_parent\"><img src=\"https://colab.research.google.com/assets/colab-badge.svg\" alt=\"Open In Colab\"/></a>"
      ]
    },
    {
      "cell_type": "markdown",
      "metadata": {
        "id": "w3u3SKCmHh7w",
        "colab_type": "text"
      },
      "source": [
        "CLASIFICACION DE SEÑALES \n",
        "\n",
        "señales reales y complejas\n",
        "\n",
        "\n"
      ]
    },
    {
      "cell_type": "code",
      "metadata": {
        "id": "8Ah59nHsHtkY",
        "colab_type": "code",
        "colab": {}
      },
      "source": [
        "[] \n",
        "import numpy as np \n"
      ],
      "execution_count": 0,
      "outputs": []
    }
  ]
}